{
 "cells": [
  {
   "cell_type": "markdown",
   "id": "ef71c9ba",
   "metadata": {},
   "source": [
    "# Data Science project 2, Ecommerce Dataset\n",
    "\n",
    "## ML6, Integrify\n",
    "\n",
    "### Hannu Kiiskinen, 23.11.2023"
   ]
  },
  {
   "cell_type": "code",
   "execution_count": 1,
   "id": "36eb3b8f",
   "metadata": {},
   "outputs": [],
   "source": [
    "import numpy as np\n",
    "import pandas as pd\n",
    "import seaborn as sns\n",
    "import matplotlib.pyplot as plt\n",
    "import scipy.stats as stats\n",
    "from scipy.stats import f, f_oneway\n",
    "from scipy.stats import chi2_contingency\n",
    "from dash import Dash, dcc, html, Input, Output, callback\n",
    "import plotly.express as px"
   ]
  },
  {
   "cell_type": "markdown",
   "id": "6f4d6684",
   "metadata": {},
   "source": [
    "## Descriptive statistics\n",
    "\n",
    "### Dataset\n",
    "\n",
    "Ecommerce Dataset from Kaggle. Data collected 6 years ago, not updated after that.\n",
    "\n",
    "License: CC0, Puplic Domain"
   ]
  },
  {
   "cell_type": "code",
   "execution_count": 2,
   "id": "f195e849",
   "metadata": {},
   "outputs": [
    {
     "data": {
      "text/html": [
       "<div>\n",
       "<style scoped>\n",
       "    .dataframe tbody tr th:only-of-type {\n",
       "        vertical-align: middle;\n",
       "    }\n",
       "\n",
       "    .dataframe tbody tr th {\n",
       "        vertical-align: top;\n",
       "    }\n",
       "\n",
       "    .dataframe thead th {\n",
       "        text-align: right;\n",
       "    }\n",
       "</style>\n",
       "<table border=\"1\" class=\"dataframe\">\n",
       "  <thead>\n",
       "    <tr style=\"text-align: right;\">\n",
       "      <th></th>\n",
       "      <th>InvoiceNo</th>\n",
       "      <th>StockCode</th>\n",
       "      <th>Description</th>\n",
       "      <th>Quantity</th>\n",
       "      <th>InvoiceDate</th>\n",
       "      <th>UnitPrice</th>\n",
       "      <th>CustomerID</th>\n",
       "      <th>Country</th>\n",
       "    </tr>\n",
       "  </thead>\n",
       "  <tbody>\n",
       "    <tr>\n",
       "      <th>0</th>\n",
       "      <td>536365</td>\n",
       "      <td>85123A</td>\n",
       "      <td>WHITE HANGING HEART T-LIGHT HOLDER</td>\n",
       "      <td>6</td>\n",
       "      <td>12/1/2010 8:26</td>\n",
       "      <td>2.55</td>\n",
       "      <td>17850.0</td>\n",
       "      <td>United Kingdom</td>\n",
       "    </tr>\n",
       "    <tr>\n",
       "      <th>1</th>\n",
       "      <td>536365</td>\n",
       "      <td>71053</td>\n",
       "      <td>WHITE METAL LANTERN</td>\n",
       "      <td>6</td>\n",
       "      <td>12/1/2010 8:26</td>\n",
       "      <td>3.39</td>\n",
       "      <td>17850.0</td>\n",
       "      <td>United Kingdom</td>\n",
       "    </tr>\n",
       "    <tr>\n",
       "      <th>2</th>\n",
       "      <td>536365</td>\n",
       "      <td>84406B</td>\n",
       "      <td>CREAM CUPID HEARTS COAT HANGER</td>\n",
       "      <td>8</td>\n",
       "      <td>12/1/2010 8:26</td>\n",
       "      <td>2.75</td>\n",
       "      <td>17850.0</td>\n",
       "      <td>United Kingdom</td>\n",
       "    </tr>\n",
       "    <tr>\n",
       "      <th>3</th>\n",
       "      <td>536365</td>\n",
       "      <td>84029G</td>\n",
       "      <td>KNITTED UNION FLAG HOT WATER BOTTLE</td>\n",
       "      <td>6</td>\n",
       "      <td>12/1/2010 8:26</td>\n",
       "      <td>3.39</td>\n",
       "      <td>17850.0</td>\n",
       "      <td>United Kingdom</td>\n",
       "    </tr>\n",
       "    <tr>\n",
       "      <th>4</th>\n",
       "      <td>536365</td>\n",
       "      <td>84029E</td>\n",
       "      <td>RED WOOLLY HOTTIE WHITE HEART.</td>\n",
       "      <td>6</td>\n",
       "      <td>12/1/2010 8:26</td>\n",
       "      <td>3.39</td>\n",
       "      <td>17850.0</td>\n",
       "      <td>United Kingdom</td>\n",
       "    </tr>\n",
       "  </tbody>\n",
       "</table>\n",
       "</div>"
      ],
      "text/plain": [
       "  InvoiceNo StockCode                          Description  Quantity  \\\n",
       "0    536365    85123A   WHITE HANGING HEART T-LIGHT HOLDER         6   \n",
       "1    536365     71053                  WHITE METAL LANTERN         6   \n",
       "2    536365    84406B       CREAM CUPID HEARTS COAT HANGER         8   \n",
       "3    536365    84029G  KNITTED UNION FLAG HOT WATER BOTTLE         6   \n",
       "4    536365    84029E       RED WOOLLY HOTTIE WHITE HEART.         6   \n",
       "\n",
       "      InvoiceDate  UnitPrice  CustomerID         Country  \n",
       "0  12/1/2010 8:26       2.55     17850.0  United Kingdom  \n",
       "1  12/1/2010 8:26       3.39     17850.0  United Kingdom  \n",
       "2  12/1/2010 8:26       2.75     17850.0  United Kingdom  \n",
       "3  12/1/2010 8:26       3.39     17850.0  United Kingdom  \n",
       "4  12/1/2010 8:26       3.39     17850.0  United Kingdom  "
      ]
     },
     "execution_count": 2,
     "metadata": {},
     "output_type": "execute_result"
    }
   ],
   "source": [
    "df = pd.read_csv(\"DS_Project2a/data-2.csv\")\n",
    "df.head()"
   ]
  },
  {
   "cell_type": "markdown",
   "id": "1024d92e",
   "metadata": {},
   "source": [
    "## Data review\n",
    "\n",
    "541909 entries, 8 columns, float, int and object data types, there are missing values in two fields (Description and CustomerID)."
   ]
  },
  {
   "cell_type": "code",
   "execution_count": 3,
   "id": "048f47a1",
   "metadata": {},
   "outputs": [
    {
     "name": "stdout",
     "output_type": "stream",
     "text": [
      "<class 'pandas.core.frame.DataFrame'>\n",
      "RangeIndex: 541909 entries, 0 to 541908\n",
      "Data columns (total 8 columns):\n",
      " #   Column       Non-Null Count   Dtype  \n",
      "---  ------       --------------   -----  \n",
      " 0   InvoiceNo    541909 non-null  object \n",
      " 1   StockCode    541909 non-null  object \n",
      " 2   Description  540455 non-null  object \n",
      " 3   Quantity     541909 non-null  int64  \n",
      " 4   InvoiceDate  541909 non-null  object \n",
      " 5   UnitPrice    541909 non-null  float64\n",
      " 6   CustomerID   406829 non-null  float64\n",
      " 7   Country      541909 non-null  object \n",
      "dtypes: float64(2), int64(1), object(5)\n",
      "memory usage: 33.1+ MB\n"
     ]
    }
   ],
   "source": [
    "df.info()"
   ]
  },
  {
   "cell_type": "code",
   "execution_count": 4,
   "id": "65bbd9e1",
   "metadata": {},
   "outputs": [
    {
     "data": {
      "text/plain": [
       "InvoiceNo      25900\n",
       "StockCode       4070\n",
       "Description     4223\n",
       "Quantity         722\n",
       "InvoiceDate    23260\n",
       "UnitPrice       1630\n",
       "CustomerID      4372\n",
       "Country           38\n",
       "dtype: int64"
      ]
     },
     "execution_count": 4,
     "metadata": {},
     "output_type": "execute_result"
    }
   ],
   "source": [
    "df.nunique()"
   ]
  },
  {
   "cell_type": "markdown",
   "id": "a30fa7d0",
   "metadata": {},
   "source": [
    "### Distribution of data"
   ]
  },
  {
   "cell_type": "code",
   "execution_count": 5,
   "id": "36e14c4c",
   "metadata": {},
   "outputs": [
    {
     "data": {
      "text/html": [
       "<div>\n",
       "<style scoped>\n",
       "    .dataframe tbody tr th:only-of-type {\n",
       "        vertical-align: middle;\n",
       "    }\n",
       "\n",
       "    .dataframe tbody tr th {\n",
       "        vertical-align: top;\n",
       "    }\n",
       "\n",
       "    .dataframe thead th {\n",
       "        text-align: right;\n",
       "    }\n",
       "</style>\n",
       "<table border=\"1\" class=\"dataframe\">\n",
       "  <thead>\n",
       "    <tr style=\"text-align: right;\">\n",
       "      <th></th>\n",
       "      <th>Quantity</th>\n",
       "      <th>UnitPrice</th>\n",
       "    </tr>\n",
       "  </thead>\n",
       "  <tbody>\n",
       "    <tr>\n",
       "      <th>count</th>\n",
       "      <td>541909.000000</td>\n",
       "      <td>541909.000000</td>\n",
       "    </tr>\n",
       "    <tr>\n",
       "      <th>mean</th>\n",
       "      <td>9.552250</td>\n",
       "      <td>4.611114</td>\n",
       "    </tr>\n",
       "    <tr>\n",
       "      <th>std</th>\n",
       "      <td>218.081158</td>\n",
       "      <td>96.759853</td>\n",
       "    </tr>\n",
       "    <tr>\n",
       "      <th>min</th>\n",
       "      <td>-80995.000000</td>\n",
       "      <td>-11062.060000</td>\n",
       "    </tr>\n",
       "    <tr>\n",
       "      <th>25%</th>\n",
       "      <td>1.000000</td>\n",
       "      <td>1.250000</td>\n",
       "    </tr>\n",
       "    <tr>\n",
       "      <th>50%</th>\n",
       "      <td>3.000000</td>\n",
       "      <td>2.080000</td>\n",
       "    </tr>\n",
       "    <tr>\n",
       "      <th>75%</th>\n",
       "      <td>10.000000</td>\n",
       "      <td>4.130000</td>\n",
       "    </tr>\n",
       "    <tr>\n",
       "      <th>max</th>\n",
       "      <td>80995.000000</td>\n",
       "      <td>38970.000000</td>\n",
       "    </tr>\n",
       "  </tbody>\n",
       "</table>\n",
       "</div>"
      ],
      "text/plain": [
       "            Quantity      UnitPrice\n",
       "count  541909.000000  541909.000000\n",
       "mean        9.552250       4.611114\n",
       "std       218.081158      96.759853\n",
       "min    -80995.000000  -11062.060000\n",
       "25%         1.000000       1.250000\n",
       "50%         3.000000       2.080000\n",
       "75%        10.000000       4.130000\n",
       "max     80995.000000   38970.000000"
      ]
     },
     "execution_count": 5,
     "metadata": {},
     "output_type": "execute_result"
    }
   ],
   "source": [
    "df1 = df.filter(items=['Quantity', 'UnitPrice']) # Just include numeric values\n",
    "df1.describe()"
   ]
  },
  {
   "cell_type": "markdown",
   "id": "20823bd8",
   "metadata": {},
   "source": [
    "### Factors (meaning of the columns)\n",
    "\n",
    "- InvoiceNo, Number related to Customer Invoicing\n",
    "- StockCode, Code used in Stock\n",
    "- Description, description of the item\n",
    "- Quantity, amount of items\n",
    "- InvoiceDate, Date when items are Invoiced\n",
    "- UnitPrice, unit price of the item\n",
    "- CustomerID, Id for each Customer\n",
    "- Country, Country of customer"
   ]
  },
  {
   "cell_type": "markdown",
   "id": "a63421da",
   "metadata": {},
   "source": [
    "## Explotary Data Analysis"
   ]
  },
  {
   "cell_type": "code",
   "execution_count": 9,
   "id": "78e29d79",
   "metadata": {},
   "outputs": [
    {
     "data": {
      "text/plain": [
       "<AxesSubplot:>"
      ]
     },
     "execution_count": 9,
     "metadata": {},
     "output_type": "execute_result"
    },
    {
     "data": {
      "image/png": "[encoded data removed]",
      "text/plain": [
       "<Figure size 792x432 with 1 Axes>"
      ]
     },
     "metadata": {
      "needs_background": "light"
     },
     "output_type": "display_data"
    }
   ],
   "source": [
    "# Boxplot to show outliers, just numerical values\n",
    "plt.figure(figsize=(11, 6))\n",
    "sns.boxplot(data=df1)"
   ]
  },
  {
   "cell_type": "markdown",
   "id": "5ff71940",
   "metadata": {},
   "source": [
    "### Clean the data\n",
    "\n",
    "- Outliers shown in BoxPlot (only for continues = Quantity and UnitPrice)\n",
    "- Missing values in Description and CustomerID\n",
    "- Strange values in Quantity and UnitPrice (negative)\n",
    "    - There are two negative values in UnitPrice, which are \"Adjust bad debt\"\n",
    "    - There are lot of negative values in Quantity, these have to be evaluated separately if interesting?\n",
    "    - Negative values will be removed for following processing and it is possible to evaluate negative Qty separately"
   ]
  },
  {
   "cell_type": "code",
   "execution_count": 10,
   "id": "9871ed9c",
   "metadata": {},
   "outputs": [
    {
     "name": "stdout",
     "output_type": "stream",
     "text": [
      "Amount of missing Description values = 1454, percentage is 0.3 %\n",
      "Amount of missing CustomerID values = 135080, percentage is 24.9 %\n",
      "\n",
      "Negative Quantity values = 10624, percentage is 2.0 %\n",
      "Negative UnitPrice values = 2, percentage is 0.0 %\n"
     ]
    }
   ],
   "source": [
    "# Amount of missing values & Percentage of missing values\n",
    "mis_des = df['Description'].isna().sum()\n",
    "mis_cid = df['CustomerID'].isna().sum()\n",
    "all_val = df.shape[0]\n",
    "print(f'Amount of missing Description values = {mis_des}, percentage is {(100*mis_des/all_val).round(1)} %')\n",
    "print(f'Amount of missing CustomerID values = {mis_cid}, percentage is {(100*mis_cid/all_val).round(1)} %')\n",
    "print()\n",
    "\n",
    "# Amount of negative values\n",
    "neg_qty = df[df['Quantity'] < 0].shape[0]\n",
    "neg_pri = df[df['UnitPrice'] < 0].shape[0]\n",
    "print(f'Negative Quantity values = {neg_qty}, percentage is {round((100*neg_qty/all_val), 1)} %')\n",
    "print(f'Negative UnitPrice values = {neg_pri}, percentage is {round((100*neg_pri/all_val), 1)} %')"
   ]
  },
  {
   "cell_type": "markdown",
   "id": "dc0d6141",
   "metadata": {},
   "source": [
    "#### Removing data from analysis\n",
    "\n",
    "There are small amount negative values and also small amount missing Descriptions which will be deleted.\n",
    "\n",
    "The amount of missing CutomerID is bigger, but as this is useless when analyicing who is bying what, also these will be deleted.\n",
    "\n",
    "There are also some Postage and Manual costs, which are not directly related to Customer, so also these will be deleted."
   ]
  },
  {
   "cell_type": "code",
   "execution_count": 11,
   "id": "7a0fd701",
   "metadata": {},
   "outputs": [
    {
     "data": {
      "text/plain": [
       "((396519, 8), (541909, 8))"
      ]
     },
     "execution_count": 11,
     "metadata": {},
     "output_type": "execute_result"
    }
   ],
   "source": [
    "# Delete rows with negative values, NaN-values and some other selected uninterested values (Postage & Manual)\n",
    "df_pos = df.drop(df[df.Quantity < 0].index)                    # Negative Quantity\n",
    "df_pos = df_pos.drop(df_pos[df_pos.UnitPrice < 0].index)       # Negative UnitPrice\n",
    "df_pos = df_pos.drop(df_pos[df_pos.StockCode == 'POST'].index) # Postage\n",
    "df_pos = df_pos.drop(df_pos[df_pos.StockCode == 'M'].index)    # Manual\n",
    "df_pos = df_pos.drop(df_pos[df_pos.StockCode == 'DOT'].index)  # DotCom Postage\n",
    "df_pos = df_pos.dropna()\n",
    "df_pos.shape, df.shape"
   ]
  },
  {
   "cell_type": "markdown",
   "id": "91ea88b7",
   "metadata": {},
   "source": [
    "### Transformation\n",
    "\n",
    "- Adding Total amount of money used in new field"
   ]
  },
  {
   "cell_type": "code",
   "execution_count": 12,
   "id": "6ad5a1c4",
   "metadata": {},
   "outputs": [
    {
     "data": {
      "text/html": [
       "<div>\n",
       "<style scoped>\n",
       "    .dataframe tbody tr th:only-of-type {\n",
       "        vertical-align: middle;\n",
       "    }\n",
       "\n",
       "    .dataframe tbody tr th {\n",
       "        vertical-align: top;\n",
       "    }\n",
       "\n",
       "    .dataframe thead th {\n",
       "        text-align: right;\n",
       "    }\n",
       "</style>\n",
       "<table border=\"1\" class=\"dataframe\">\n",
       "  <thead>\n",
       "    <tr style=\"text-align: right;\">\n",
       "      <th></th>\n",
       "      <th>InvoiceNo</th>\n",
       "      <th>StockCode</th>\n",
       "      <th>Description</th>\n",
       "      <th>Quantity</th>\n",
       "      <th>InvoiceDate</th>\n",
       "      <th>UnitPrice</th>\n",
       "      <th>CustomerID</th>\n",
       "      <th>Country</th>\n",
       "      <th>Total</th>\n",
       "    </tr>\n",
       "  </thead>\n",
       "  <tbody>\n",
       "    <tr>\n",
       "      <th>0</th>\n",
       "      <td>536365</td>\n",
       "      <td>85123A</td>\n",
       "      <td>WHITE HANGING HEART T-LIGHT HOLDER</td>\n",
       "      <td>6</td>\n",
       "      <td>12/1/2010 8:26</td>\n",
       "      <td>2.55</td>\n",
       "      <td>17850.0</td>\n",
       "      <td>United Kingdom</td>\n",
       "      <td>15.30</td>\n",
       "    </tr>\n",
       "    <tr>\n",
       "      <th>1</th>\n",
       "      <td>536365</td>\n",
       "      <td>71053</td>\n",
       "      <td>WHITE METAL LANTERN</td>\n",
       "      <td>6</td>\n",
       "      <td>12/1/2010 8:26</td>\n",
       "      <td>3.39</td>\n",
       "      <td>17850.0</td>\n",
       "      <td>United Kingdom</td>\n",
       "      <td>20.34</td>\n",
       "    </tr>\n",
       "    <tr>\n",
       "      <th>2</th>\n",
       "      <td>536365</td>\n",
       "      <td>84406B</td>\n",
       "      <td>CREAM CUPID HEARTS COAT HANGER</td>\n",
       "      <td>8</td>\n",
       "      <td>12/1/2010 8:26</td>\n",
       "      <td>2.75</td>\n",
       "      <td>17850.0</td>\n",
       "      <td>United Kingdom</td>\n",
       "      <td>22.00</td>\n",
       "    </tr>\n",
       "    <tr>\n",
       "      <th>3</th>\n",
       "      <td>536365</td>\n",
       "      <td>84029G</td>\n",
       "      <td>KNITTED UNION FLAG HOT WATER BOTTLE</td>\n",
       "      <td>6</td>\n",
       "      <td>12/1/2010 8:26</td>\n",
       "      <td>3.39</td>\n",
       "      <td>17850.0</td>\n",
       "      <td>United Kingdom</td>\n",
       "      <td>20.34</td>\n",
       "    </tr>\n",
       "    <tr>\n",
       "      <th>4</th>\n",
       "      <td>536365</td>\n",
       "      <td>84029E</td>\n",
       "      <td>RED WOOLLY HOTTIE WHITE HEART.</td>\n",
       "      <td>6</td>\n",
       "      <td>12/1/2010 8:26</td>\n",
       "      <td>3.39</td>\n",
       "      <td>17850.0</td>\n",
       "      <td>United Kingdom</td>\n",
       "      <td>20.34</td>\n",
       "    </tr>\n",
       "    <tr>\n",
       "      <th>...</th>\n",
       "      <td>...</td>\n",
       "      <td>...</td>\n",
       "      <td>...</td>\n",
       "      <td>...</td>\n",
       "      <td>...</td>\n",
       "      <td>...</td>\n",
       "      <td>...</td>\n",
       "      <td>...</td>\n",
       "      <td>...</td>\n",
       "    </tr>\n",
       "    <tr>\n",
       "      <th>541904</th>\n",
       "      <td>581587</td>\n",
       "      <td>22613</td>\n",
       "      <td>PACK OF 20 SPACEBOY NAPKINS</td>\n",
       "      <td>12</td>\n",
       "      <td>12/9/2011 12:50</td>\n",
       "      <td>0.85</td>\n",
       "      <td>12680.0</td>\n",
       "      <td>France</td>\n",
       "      <td>10.20</td>\n",
       "    </tr>\n",
       "    <tr>\n",
       "      <th>541905</th>\n",
       "      <td>581587</td>\n",
       "      <td>22899</td>\n",
       "      <td>CHILDREN'S APRON DOLLY GIRL</td>\n",
       "      <td>6</td>\n",
       "      <td>12/9/2011 12:50</td>\n",
       "      <td>2.10</td>\n",
       "      <td>12680.0</td>\n",
       "      <td>France</td>\n",
       "      <td>12.60</td>\n",
       "    </tr>\n",
       "    <tr>\n",
       "      <th>541906</th>\n",
       "      <td>581587</td>\n",
       "      <td>23254</td>\n",
       "      <td>CHILDRENS CUTLERY DOLLY GIRL</td>\n",
       "      <td>4</td>\n",
       "      <td>12/9/2011 12:50</td>\n",
       "      <td>4.15</td>\n",
       "      <td>12680.0</td>\n",
       "      <td>France</td>\n",
       "      <td>16.60</td>\n",
       "    </tr>\n",
       "    <tr>\n",
       "      <th>541907</th>\n",
       "      <td>581587</td>\n",
       "      <td>23255</td>\n",
       "      <td>CHILDRENS CUTLERY CIRCUS PARADE</td>\n",
       "      <td>4</td>\n",
       "      <td>12/9/2011 12:50</td>\n",
       "      <td>4.15</td>\n",
       "      <td>12680.0</td>\n",
       "      <td>France</td>\n",
       "      <td>16.60</td>\n",
       "    </tr>\n",
       "    <tr>\n",
       "      <th>541908</th>\n",
       "      <td>581587</td>\n",
       "      <td>22138</td>\n",
       "      <td>BAKING SET 9 PIECE RETROSPOT</td>\n",
       "      <td>3</td>\n",
       "      <td>12/9/2011 12:50</td>\n",
       "      <td>4.95</td>\n",
       "      <td>12680.0</td>\n",
       "      <td>France</td>\n",
       "      <td>14.85</td>\n",
       "    </tr>\n",
       "  </tbody>\n",
       "</table>\n",
       "<p>396519 rows × 9 columns</p>\n",
       "</div>"
      ],
      "text/plain": [
       "       InvoiceNo StockCode                          Description  Quantity  \\\n",
       "0         536365    85123A   WHITE HANGING HEART T-LIGHT HOLDER         6   \n",
       "1         536365     71053                  WHITE METAL LANTERN         6   \n",
       "2         536365    84406B       CREAM CUPID HEARTS COAT HANGER         8   \n",
       "3         536365    84029G  KNITTED UNION FLAG HOT WATER BOTTLE         6   \n",
       "4         536365    84029E       RED WOOLLY HOTTIE WHITE HEART.         6   \n",
       "...          ...       ...                                  ...       ...   \n",
       "541904    581587     22613          PACK OF 20 SPACEBOY NAPKINS        12   \n",
       "541905    581587     22899         CHILDREN'S APRON DOLLY GIRL          6   \n",
       "541906    581587     23254        CHILDRENS CUTLERY DOLLY GIRL          4   \n",
       "541907    581587     23255      CHILDRENS CUTLERY CIRCUS PARADE         4   \n",
       "541908    581587     22138        BAKING SET 9 PIECE RETROSPOT          3   \n",
       "\n",
       "            InvoiceDate  UnitPrice  CustomerID         Country  Total  \n",
       "0        12/1/2010 8:26       2.55     17850.0  United Kingdom  15.30  \n",
       "1        12/1/2010 8:26       3.39     17850.0  United Kingdom  20.34  \n",
       "2        12/1/2010 8:26       2.75     17850.0  United Kingdom  22.00  \n",
       "3        12/1/2010 8:26       3.39     17850.0  United Kingdom  20.34  \n",
       "4        12/1/2010 8:26       3.39     17850.0  United Kingdom  20.34  \n",
       "...                 ...        ...         ...             ...    ...  \n",
       "541904  12/9/2011 12:50       0.85     12680.0          France  10.20  \n",
       "541905  12/9/2011 12:50       2.10     12680.0          France  12.60  \n",
       "541906  12/9/2011 12:50       4.15     12680.0          France  16.60  \n",
       "541907  12/9/2011 12:50       4.15     12680.0          France  16.60  \n",
       "541908  12/9/2011 12:50       4.95     12680.0          France  14.85  \n",
       "\n",
       "[396519 rows x 9 columns]"
      ]
     },
     "execution_count": 12,
     "metadata": {},
     "output_type": "execute_result"
    }
   ],
   "source": [
    "# Calculate Total = Qty * UnitPrice\n",
    "\n",
    "total = df_pos.Quantity * df_pos.UnitPrice\n",
    "df_pos['Total'] = total\n",
    "df_pos"
   ]
  },
  {
   "cell_type": "markdown",
   "id": "3fc33065",
   "metadata": {},
   "source": [
    "### Data visualization and Relationships between factors\n",
    "\n",
    "There are some additional task needed to do to get better visualization results."
   ]
  },
  {
   "cell_type": "code",
   "execution_count": 13,
   "id": "5f47f182",
   "metadata": {},
   "outputs": [
    {
     "data": {
      "text/plain": [
       "((1229, 9), (395293, 9))"
      ]
     },
     "execution_count": 13,
     "metadata": {},
     "output_type": "execute_result"
    }
   ],
   "source": [
    "# Reorder the fields for visualization\n",
    "df_vis = df_pos[['InvoiceNo', 'StockCode', 'InvoiceDate', 'CustomerID', 'Country', 'Description', 'Quantity', 'UnitPrice', 'Total']]\n",
    "\n",
    "# Split the data for visualization purposes for High and Low values\n",
    "df_vis_High = df_vis.drop(df_vis[df_vis.Total < 400].index)      # Remove extremely high total values\n",
    "df_vis_Low = df_vis.drop(df_vis[df_vis.Total > 400].index)       # Remove extremely low total values\n",
    "df_vis_High.shape, df_vis_Low.shape"
   ]
  },
  {
   "cell_type": "code",
   "execution_count": 14,
   "id": "6be15558",
   "metadata": {},
   "outputs": [
    {
     "data": {
      "text/html": [
       "\n",
       "        <iframe\n",
       "            width=\"100%\"\n",
       "            height=\"650\"\n",
       "            src=\"http://127.0.0.1:8050/\"\n",
       "            frameborder=\"0\"\n",
       "            allowfullscreen\n",
       "        ></iframe>\n",
       "        "
      ],
      "text/plain": [
       "<IPython.lib.display.IFrame at 0x1888279c2b0>"
      ]
     },
     "metadata": {},
     "output_type": "display_data"
    }
   ],
   "source": [
    "app = Dash(__name__)\n",
    "\n",
    "app.layout = html.Div(children=[\n",
    "#    html.H3(children='Ecommerce Dataset'),\n",
    "\n",
    "    html.Label(\"Select Feature1\"),\n",
    "    dcc.Dropdown(\n",
    "        id='target-variable',\n",
    "        options=[{'label': col, 'value': col} for col in df_vis.columns[:-3]],\n",
    "        value=df_vis.columns[4]\n",
    "    ),\n",
    "    # Dropdown for selecting the feature to visualize\n",
    "    html.Label(\"Select Feature2\"),\n",
    "    dcc.Dropdown(\n",
    "        id='feature-variable',\n",
    "        options=[{'label': col, 'value': col} for col in df_vis.columns[6:]],  # Exclude the target variable\n",
    "        value=df_vis.columns[6]\n",
    "    ),\n",
    "    # Radio buttons for selecting visualization type\n",
    "    html.Label(\"Select The part of Dataset\"),\n",
    "    dcc.RadioItems(\n",
    "        id='visualization-type',\n",
    "        options=[\n",
    "            {'label': 'Higher values', 'value': 'df_vis_High'},\n",
    "            {'label': 'Lower values', 'value': 'df_vis_Low'}\n",
    "        ],\n",
    "        value='df_vis_High',\n",
    "        labelStyle={'display': 'block'}\n",
    "    ),\n",
    "    # Graph container\n",
    "    dcc.Graph(id='graph')\n",
    "])\n",
    "# Callback to update the graph based on user input\n",
    "@app.callback(\n",
    "    Output('graph', 'figure'),\n",
    "    [Input('target-variable', 'value'),\n",
    "     Input('feature-variable', 'value'),\n",
    "     Input('visualization-type', 'value')]\n",
    ")\n",
    "def update_graph(target_var, feature_var, vis_type):\n",
    "    #df1 = df.loc[(df['UnitPrice'] < 10)]\n",
    "    if vis_type == 'df_vis_High':\n",
    "        df1 = df_vis_High\n",
    "    else:\n",
    "        df1 = df_vis_Low\n",
    "    fig = px.scatter(df1, x=feature_var, y=target_var, color=\"Country\", hover_name=\"Description\")\n",
    "    return fig\n",
    "\n",
    "if __name__ == '__main__':\n",
    "    app.run(debug=True)"
   ]
  },
  {
   "cell_type": "markdown",
   "id": "adbd0f2b",
   "metadata": {},
   "source": [
    "### Top items\n",
    "- Highest money maker: PAPER CRAFT , LITTLE BIRDIE, Total = 168469.6\n",
    "- The most costly item: PICNIC BASKET WICKER 60 PIECES, UnitPrice = 649.5\n",
    "- The biggest quantity: PAPER CRAFT , LITTLE BIRDIE, Quantity = 80995"
   ]
  },
  {
   "cell_type": "code",
   "execution_count": 12,
   "id": "86b63b7a",
   "metadata": {},
   "outputs": [
    {
     "data": {
      "text/html": [
       "<div>\n",
       "<style scoped>\n",
       "    .dataframe tbody tr th:only-of-type {\n",
       "        vertical-align: middle;\n",
       "    }\n",
       "\n",
       "    .dataframe tbody tr th {\n",
       "        vertical-align: top;\n",
       "    }\n",
       "\n",
       "    .dataframe thead th {\n",
       "        text-align: right;\n",
       "    }\n",
       "</style>\n",
       "<table border=\"1\" class=\"dataframe\">\n",
       "  <thead>\n",
       "    <tr style=\"text-align: right;\">\n",
       "      <th></th>\n",
       "      <th>InvoiceNo</th>\n",
       "      <th>StockCode</th>\n",
       "      <th>Description</th>\n",
       "      <th>Quantity</th>\n",
       "      <th>InvoiceDate</th>\n",
       "      <th>UnitPrice</th>\n",
       "      <th>CustomerID</th>\n",
       "      <th>Country</th>\n",
       "      <th>Total</th>\n",
       "    </tr>\n",
       "  </thead>\n",
       "  <tbody>\n",
       "    <tr>\n",
       "      <th>540421</th>\n",
       "      <td>581483</td>\n",
       "      <td>23843</td>\n",
       "      <td>PAPER CRAFT , LITTLE BIRDIE</td>\n",
       "      <td>80995</td>\n",
       "      <td>12/9/2011 9:15</td>\n",
       "      <td>2.08</td>\n",
       "      <td>16446.0</td>\n",
       "      <td>United Kingdom</td>\n",
       "      <td>168469.6</td>\n",
       "    </tr>\n",
       "    <tr>\n",
       "      <th>61619</th>\n",
       "      <td>541431</td>\n",
       "      <td>23166</td>\n",
       "      <td>MEDIUM CERAMIC TOP STORAGE JAR</td>\n",
       "      <td>74215</td>\n",
       "      <td>1/18/2011 10:01</td>\n",
       "      <td>1.04</td>\n",
       "      <td>12346.0</td>\n",
       "      <td>United Kingdom</td>\n",
       "      <td>77183.6</td>\n",
       "    </tr>\n",
       "    <tr>\n",
       "      <th>222680</th>\n",
       "      <td>556444</td>\n",
       "      <td>22502</td>\n",
       "      <td>PICNIC BASKET WICKER 60 PIECES</td>\n",
       "      <td>60</td>\n",
       "      <td>6/10/2011 15:28</td>\n",
       "      <td>649.50</td>\n",
       "      <td>15098.0</td>\n",
       "      <td>United Kingdom</td>\n",
       "      <td>38970.0</td>\n",
       "    </tr>\n",
       "  </tbody>\n",
       "</table>\n",
       "</div>"
      ],
      "text/plain": [
       "       InvoiceNo StockCode                     Description  Quantity  \\\n",
       "540421    581483     23843     PAPER CRAFT , LITTLE BIRDIE     80995   \n",
       "61619     541431     23166  MEDIUM CERAMIC TOP STORAGE JAR     74215   \n",
       "222680    556444     22502  PICNIC BASKET WICKER 60 PIECES        60   \n",
       "\n",
       "            InvoiceDate  UnitPrice  CustomerID         Country     Total  \n",
       "540421   12/9/2011 9:15       2.08     16446.0  United Kingdom  168469.6  \n",
       "61619   1/18/2011 10:01       1.04     12346.0  United Kingdom   77183.6  \n",
       "222680  6/10/2011 15:28     649.50     15098.0  United Kingdom   38970.0  "
      ]
     },
     "execution_count": 12,
     "metadata": {},
     "output_type": "execute_result"
    }
   ],
   "source": [
    "df_pos.sort_values(by=['Total'], ascending=False).head(3)"
   ]
  },
  {
   "cell_type": "code",
   "execution_count": 13,
   "id": "896b00b9",
   "metadata": {},
   "outputs": [
    {
     "data": {
      "text/html": [
       "<div>\n",
       "<style scoped>\n",
       "    .dataframe tbody tr th:only-of-type {\n",
       "        vertical-align: middle;\n",
       "    }\n",
       "\n",
       "    .dataframe tbody tr th {\n",
       "        vertical-align: top;\n",
       "    }\n",
       "\n",
       "    .dataframe thead th {\n",
       "        text-align: right;\n",
       "    }\n",
       "</style>\n",
       "<table border=\"1\" class=\"dataframe\">\n",
       "  <thead>\n",
       "    <tr style=\"text-align: right;\">\n",
       "      <th></th>\n",
       "      <th>InvoiceNo</th>\n",
       "      <th>StockCode</th>\n",
       "      <th>Description</th>\n",
       "      <th>Quantity</th>\n",
       "      <th>InvoiceDate</th>\n",
       "      <th>UnitPrice</th>\n",
       "      <th>CustomerID</th>\n",
       "      <th>Country</th>\n",
       "      <th>Total</th>\n",
       "    </tr>\n",
       "  </thead>\n",
       "  <tbody>\n",
       "    <tr>\n",
       "      <th>222680</th>\n",
       "      <td>556444</td>\n",
       "      <td>22502</td>\n",
       "      <td>PICNIC BASKET WICKER 60 PIECES</td>\n",
       "      <td>60</td>\n",
       "      <td>6/10/2011 15:28</td>\n",
       "      <td>649.5</td>\n",
       "      <td>15098.0</td>\n",
       "      <td>United Kingdom</td>\n",
       "      <td>38970.0</td>\n",
       "    </tr>\n",
       "    <tr>\n",
       "      <th>222682</th>\n",
       "      <td>556446</td>\n",
       "      <td>22502</td>\n",
       "      <td>PICNIC BASKET WICKER 60 PIECES</td>\n",
       "      <td>1</td>\n",
       "      <td>6/10/2011 15:33</td>\n",
       "      <td>649.5</td>\n",
       "      <td>15098.0</td>\n",
       "      <td>United Kingdom</td>\n",
       "      <td>649.5</td>\n",
       "    </tr>\n",
       "    <tr>\n",
       "      <th>133994</th>\n",
       "      <td>547814</td>\n",
       "      <td>22656</td>\n",
       "      <td>VINTAGE BLUE KITCHEN CABINET</td>\n",
       "      <td>1</td>\n",
       "      <td>3/25/2011 14:19</td>\n",
       "      <td>295.0</td>\n",
       "      <td>13452.0</td>\n",
       "      <td>United Kingdom</td>\n",
       "      <td>295.0</td>\n",
       "    </tr>\n",
       "  </tbody>\n",
       "</table>\n",
       "</div>"
      ],
      "text/plain": [
       "       InvoiceNo StockCode                     Description  Quantity  \\\n",
       "222680    556444     22502  PICNIC BASKET WICKER 60 PIECES        60   \n",
       "222682    556446     22502  PICNIC BASKET WICKER 60 PIECES         1   \n",
       "133994    547814     22656    VINTAGE BLUE KITCHEN CABINET         1   \n",
       "\n",
       "            InvoiceDate  UnitPrice  CustomerID         Country    Total  \n",
       "222680  6/10/2011 15:28      649.5     15098.0  United Kingdom  38970.0  \n",
       "222682  6/10/2011 15:33      649.5     15098.0  United Kingdom    649.5  \n",
       "133994  3/25/2011 14:19      295.0     13452.0  United Kingdom    295.0  "
      ]
     },
     "execution_count": 13,
     "metadata": {},
     "output_type": "execute_result"
    }
   ],
   "source": [
    "df_pos.sort_values(by=['UnitPrice'], ascending=False).head(3)"
   ]
  },
  {
   "cell_type": "code",
   "execution_count": 14,
   "id": "0466a6bf",
   "metadata": {},
   "outputs": [
    {
     "data": {
      "text/html": [
       "<div>\n",
       "<style scoped>\n",
       "    .dataframe tbody tr th:only-of-type {\n",
       "        vertical-align: middle;\n",
       "    }\n",
       "\n",
       "    .dataframe tbody tr th {\n",
       "        vertical-align: top;\n",
       "    }\n",
       "\n",
       "    .dataframe thead th {\n",
       "        text-align: right;\n",
       "    }\n",
       "</style>\n",
       "<table border=\"1\" class=\"dataframe\">\n",
       "  <thead>\n",
       "    <tr style=\"text-align: right;\">\n",
       "      <th></th>\n",
       "      <th>InvoiceNo</th>\n",
       "      <th>StockCode</th>\n",
       "      <th>Description</th>\n",
       "      <th>Quantity</th>\n",
       "      <th>InvoiceDate</th>\n",
       "      <th>UnitPrice</th>\n",
       "      <th>CustomerID</th>\n",
       "      <th>Country</th>\n",
       "      <th>Total</th>\n",
       "    </tr>\n",
       "  </thead>\n",
       "  <tbody>\n",
       "    <tr>\n",
       "      <th>540421</th>\n",
       "      <td>581483</td>\n",
       "      <td>23843</td>\n",
       "      <td>PAPER CRAFT , LITTLE BIRDIE</td>\n",
       "      <td>80995</td>\n",
       "      <td>12/9/2011 9:15</td>\n",
       "      <td>2.08</td>\n",
       "      <td>16446.0</td>\n",
       "      <td>United Kingdom</td>\n",
       "      <td>168469.6</td>\n",
       "    </tr>\n",
       "    <tr>\n",
       "      <th>61619</th>\n",
       "      <td>541431</td>\n",
       "      <td>23166</td>\n",
       "      <td>MEDIUM CERAMIC TOP STORAGE JAR</td>\n",
       "      <td>74215</td>\n",
       "      <td>1/18/2011 10:01</td>\n",
       "      <td>1.04</td>\n",
       "      <td>12346.0</td>\n",
       "      <td>United Kingdom</td>\n",
       "      <td>77183.6</td>\n",
       "    </tr>\n",
       "    <tr>\n",
       "      <th>502122</th>\n",
       "      <td>578841</td>\n",
       "      <td>84826</td>\n",
       "      <td>ASSTD DESIGN 3D PAPER STICKERS</td>\n",
       "      <td>12540</td>\n",
       "      <td>11/25/2011 15:57</td>\n",
       "      <td>0.00</td>\n",
       "      <td>13256.0</td>\n",
       "      <td>United Kingdom</td>\n",
       "      <td>0.0</td>\n",
       "    </tr>\n",
       "  </tbody>\n",
       "</table>\n",
       "</div>"
      ],
      "text/plain": [
       "       InvoiceNo StockCode                     Description  Quantity  \\\n",
       "540421    581483     23843     PAPER CRAFT , LITTLE BIRDIE     80995   \n",
       "61619     541431     23166  MEDIUM CERAMIC TOP STORAGE JAR     74215   \n",
       "502122    578841     84826  ASSTD DESIGN 3D PAPER STICKERS     12540   \n",
       "\n",
       "             InvoiceDate  UnitPrice  CustomerID         Country     Total  \n",
       "540421    12/9/2011 9:15       2.08     16446.0  United Kingdom  168469.6  \n",
       "61619    1/18/2011 10:01       1.04     12346.0  United Kingdom   77183.6  \n",
       "502122  11/25/2011 15:57       0.00     13256.0  United Kingdom       0.0  "
      ]
     },
     "execution_count": 14,
     "metadata": {},
     "output_type": "execute_result"
    }
   ],
   "source": [
    "df_pos.sort_values(by=['Quantity'], ascending=False).head(3)"
   ]
  },
  {
   "cell_type": "markdown",
   "id": "647ee91c",
   "metadata": {},
   "source": [
    "### The most bough, sold, stoked, invoiced (sorted by Total)\n",
    "- Customer who buys the most: CustomerID = 14646, Country = Netherlands, Total = 279138.02\n",
    "- Country which buys the most: Country = United Kingdom, Total = 7 267 502.00\n",
    "- The Stock item sold most: StockCode = 23843, UnitPrice = 2.08, Total = 168469.60  (Same item: PAPER CRAFT , LITTLE BIRDIE)\n",
    "- The InvoiceNo with highest total: InvoiceNo = 581483, Total = 168469.6            (Same item: PAPER CRAFT , LITTLE BIRDIE)\n",
    "- The most selling (based on Invoice Date) day: 2011-12-09, Total = 184190.28\n",
    "- The least selling (based on Invoice Date) day: 2011-02-06, Total = 3457.11"
   ]
  },
  {
   "cell_type": "code",
   "execution_count": 15,
   "id": "4528e216",
   "metadata": {},
   "outputs": [
    {
     "data": {
      "text/html": [
       "<div>\n",
       "<style scoped>\n",
       "    .dataframe tbody tr th:only-of-type {\n",
       "        vertical-align: middle;\n",
       "    }\n",
       "\n",
       "    .dataframe tbody tr th {\n",
       "        vertical-align: top;\n",
       "    }\n",
       "\n",
       "    .dataframe thead th {\n",
       "        text-align: right;\n",
       "    }\n",
       "</style>\n",
       "<table border=\"1\" class=\"dataframe\">\n",
       "  <thead>\n",
       "    <tr style=\"text-align: right;\">\n",
       "      <th></th>\n",
       "      <th>Quantity</th>\n",
       "      <th>UnitPrice</th>\n",
       "      <th>Total</th>\n",
       "    </tr>\n",
       "    <tr>\n",
       "      <th>CustomerID</th>\n",
       "      <th></th>\n",
       "      <th></th>\n",
       "      <th></th>\n",
       "    </tr>\n",
       "  </thead>\n",
       "  <tbody>\n",
       "    <tr>\n",
       "      <th>14646.0</th>\n",
       "      <td>197420</td>\n",
       "      <td>4933.09</td>\n",
       "      <td>279138.02</td>\n",
       "    </tr>\n",
       "    <tr>\n",
       "      <th>18102.0</th>\n",
       "      <td>64124</td>\n",
       "      <td>1940.92</td>\n",
       "      <td>259657.30</td>\n",
       "    </tr>\n",
       "    <tr>\n",
       "      <th>17450.0</th>\n",
       "      <td>69993</td>\n",
       "      <td>1143.32</td>\n",
       "      <td>194550.79</td>\n",
       "    </tr>\n",
       "  </tbody>\n",
       "</table>\n",
       "</div>"
      ],
      "text/plain": [
       "            Quantity  UnitPrice      Total\n",
       "CustomerID                                \n",
       "14646.0       197420    4933.09  279138.02\n",
       "18102.0        64124    1940.92  259657.30\n",
       "17450.0        69993    1143.32  194550.79"
      ]
     },
     "execution_count": 15,
     "metadata": {},
     "output_type": "execute_result"
    }
   ],
   "source": [
    "df_pos.groupby(['CustomerID']).sum().sort_values(by=['Total'], ascending=False).head(3)"
   ]
  },
  {
   "cell_type": "code",
   "execution_count": 16,
   "id": "8529dc52",
   "metadata": {},
   "outputs": [
    {
     "data": {
      "text/html": [
       "<div>\n",
       "<style scoped>\n",
       "    .dataframe tbody tr th:only-of-type {\n",
       "        vertical-align: middle;\n",
       "    }\n",
       "\n",
       "    .dataframe tbody tr th {\n",
       "        vertical-align: top;\n",
       "    }\n",
       "\n",
       "    .dataframe thead th {\n",
       "        text-align: right;\n",
       "    }\n",
       "</style>\n",
       "<table border=\"1\" class=\"dataframe\">\n",
       "  <thead>\n",
       "    <tr style=\"text-align: right;\">\n",
       "      <th></th>\n",
       "      <th>Quantity</th>\n",
       "      <th>UnitPrice</th>\n",
       "      <th>CustomerID</th>\n",
       "      <th>Total</th>\n",
       "    </tr>\n",
       "    <tr>\n",
       "      <th>Country</th>\n",
       "      <th></th>\n",
       "      <th></th>\n",
       "      <th></th>\n",
       "      <th></th>\n",
       "    </tr>\n",
       "  </thead>\n",
       "  <tbody>\n",
       "    <tr>\n",
       "      <th>United Kingdom</th>\n",
       "      <td>4262281</td>\n",
       "      <td>1.013186e+06</td>\n",
       "      <td>5.506329e+09</td>\n",
       "      <td>7.267502e+06</td>\n",
       "    </tr>\n",
       "    <tr>\n",
       "      <th>Netherlands</th>\n",
       "      <td>200834</td>\n",
       "      <td>5.686730e+03</td>\n",
       "      <td>3.357626e+07</td>\n",
       "      <td>2.838893e+05</td>\n",
       "    </tr>\n",
       "    <tr>\n",
       "      <th>EIRE</th>\n",
       "      <td>140523</td>\n",
       "      <td>2.880494e+04</td>\n",
       "      <td>1.066949e+08</td>\n",
       "      <td>2.621716e+05</td>\n",
       "    </tr>\n",
       "  </tbody>\n",
       "</table>\n",
       "</div>"
      ],
      "text/plain": [
       "                Quantity     UnitPrice    CustomerID         Total\n",
       "Country                                                           \n",
       "United Kingdom   4262281  1.013186e+06  5.506329e+09  7.267502e+06\n",
       "Netherlands       200834  5.686730e+03  3.357626e+07  2.838893e+05\n",
       "EIRE              140523  2.880494e+04  1.066949e+08  2.621716e+05"
      ]
     },
     "execution_count": 16,
     "metadata": {},
     "output_type": "execute_result"
    }
   ],
   "source": [
    "df_pos.groupby(['Country']).sum().sort_values(by=['Total'], ascending=False).head(3)"
   ]
  },
  {
   "cell_type": "code",
   "execution_count": 17,
   "id": "080006bc",
   "metadata": {},
   "outputs": [
    {
     "data": {
      "text/html": [
       "<div>\n",
       "<style scoped>\n",
       "    .dataframe tbody tr th:only-of-type {\n",
       "        vertical-align: middle;\n",
       "    }\n",
       "\n",
       "    .dataframe tbody tr th {\n",
       "        vertical-align: top;\n",
       "    }\n",
       "\n",
       "    .dataframe thead th {\n",
       "        text-align: right;\n",
       "    }\n",
       "</style>\n",
       "<table border=\"1\" class=\"dataframe\">\n",
       "  <thead>\n",
       "    <tr style=\"text-align: right;\">\n",
       "      <th></th>\n",
       "      <th>Quantity</th>\n",
       "      <th>UnitPrice</th>\n",
       "      <th>CustomerID</th>\n",
       "      <th>Total</th>\n",
       "    </tr>\n",
       "    <tr>\n",
       "      <th>StockCode</th>\n",
       "      <th></th>\n",
       "      <th></th>\n",
       "      <th></th>\n",
       "      <th></th>\n",
       "    </tr>\n",
       "  </thead>\n",
       "  <tbody>\n",
       "    <tr>\n",
       "      <th>23843</th>\n",
       "      <td>80995</td>\n",
       "      <td>2.08</td>\n",
       "      <td>16446.0</td>\n",
       "      <td>168469.60</td>\n",
       "    </tr>\n",
       "    <tr>\n",
       "      <th>22423</th>\n",
       "      <td>12412</td>\n",
       "      <td>21508.90</td>\n",
       "      <td>25806890.0</td>\n",
       "      <td>142592.95</td>\n",
       "    </tr>\n",
       "    <tr>\n",
       "      <th>85123A</th>\n",
       "      <td>36782</td>\n",
       "      <td>5887.47</td>\n",
       "      <td>31667793.0</td>\n",
       "      <td>100603.50</td>\n",
       "    </tr>\n",
       "  </tbody>\n",
       "</table>\n",
       "</div>"
      ],
      "text/plain": [
       "           Quantity  UnitPrice  CustomerID      Total\n",
       "StockCode                                            \n",
       "23843         80995       2.08     16446.0  168469.60\n",
       "22423         12412   21508.90  25806890.0  142592.95\n",
       "85123A        36782    5887.47  31667793.0  100603.50"
      ]
     },
     "execution_count": 17,
     "metadata": {},
     "output_type": "execute_result"
    }
   ],
   "source": [
    "df_pos.groupby(['StockCode']).sum().sort_values(by=['Total'], ascending=False).head(3)"
   ]
  },
  {
   "cell_type": "code",
   "execution_count": 18,
   "id": "3724bcf1",
   "metadata": {},
   "outputs": [
    {
     "data": {
      "text/html": [
       "<div>\n",
       "<style scoped>\n",
       "    .dataframe tbody tr th:only-of-type {\n",
       "        vertical-align: middle;\n",
       "    }\n",
       "\n",
       "    .dataframe tbody tr th {\n",
       "        vertical-align: top;\n",
       "    }\n",
       "\n",
       "    .dataframe thead th {\n",
       "        text-align: right;\n",
       "    }\n",
       "</style>\n",
       "<table border=\"1\" class=\"dataframe\">\n",
       "  <thead>\n",
       "    <tr style=\"text-align: right;\">\n",
       "      <th></th>\n",
       "      <th>Quantity</th>\n",
       "      <th>UnitPrice</th>\n",
       "      <th>CustomerID</th>\n",
       "      <th>Total</th>\n",
       "    </tr>\n",
       "    <tr>\n",
       "      <th>InvoiceNo</th>\n",
       "      <th></th>\n",
       "      <th></th>\n",
       "      <th></th>\n",
       "      <th></th>\n",
       "    </tr>\n",
       "  </thead>\n",
       "  <tbody>\n",
       "    <tr>\n",
       "      <th>581483</th>\n",
       "      <td>80995</td>\n",
       "      <td>2.08</td>\n",
       "      <td>16446.0</td>\n",
       "      <td>168469.6</td>\n",
       "    </tr>\n",
       "    <tr>\n",
       "      <th>541431</th>\n",
       "      <td>74215</td>\n",
       "      <td>1.04</td>\n",
       "      <td>12346.0</td>\n",
       "      <td>77183.6</td>\n",
       "    </tr>\n",
       "    <tr>\n",
       "      <th>556444</th>\n",
       "      <td>60</td>\n",
       "      <td>649.50</td>\n",
       "      <td>15098.0</td>\n",
       "      <td>38970.0</td>\n",
       "    </tr>\n",
       "  </tbody>\n",
       "</table>\n",
       "</div>"
      ],
      "text/plain": [
       "           Quantity  UnitPrice  CustomerID     Total\n",
       "InvoiceNo                                           \n",
       "581483        80995       2.08     16446.0  168469.6\n",
       "541431        74215       1.04     12346.0   77183.6\n",
       "556444           60     649.50     15098.0   38970.0"
      ]
     },
     "execution_count": 18,
     "metadata": {},
     "output_type": "execute_result"
    }
   ],
   "source": [
    "df_pos.groupby(['InvoiceNo']).sum().sort_values(by=['Total'], ascending=False).head(3)"
   ]
  },
  {
   "cell_type": "code",
   "execution_count": 19,
   "id": "1dbb61ca",
   "metadata": {},
   "outputs": [
    {
     "data": {
      "text/html": [
       "<div>\n",
       "<style scoped>\n",
       "    .dataframe tbody tr th:only-of-type {\n",
       "        vertical-align: middle;\n",
       "    }\n",
       "\n",
       "    .dataframe tbody tr th {\n",
       "        vertical-align: top;\n",
       "    }\n",
       "\n",
       "    .dataframe thead th {\n",
       "        text-align: right;\n",
       "    }\n",
       "</style>\n",
       "<table border=\"1\" class=\"dataframe\">\n",
       "  <thead>\n",
       "    <tr style=\"text-align: right;\">\n",
       "      <th></th>\n",
       "      <th>Quantity</th>\n",
       "      <th>UnitPrice</th>\n",
       "      <th>CustomerID</th>\n",
       "      <th>Total</th>\n",
       "    </tr>\n",
       "    <tr>\n",
       "      <th>InvoiceDate</th>\n",
       "      <th></th>\n",
       "      <th></th>\n",
       "      <th></th>\n",
       "      <th></th>\n",
       "    </tr>\n",
       "  </thead>\n",
       "  <tbody>\n",
       "    <tr>\n",
       "      <th>2011-12-09</th>\n",
       "      <td>90573</td>\n",
       "      <td>1449.75</td>\n",
       "      <td>8944048.0</td>\n",
       "      <td>184190.28</td>\n",
       "    </tr>\n",
       "    <tr>\n",
       "      <th>2011-09-20</th>\n",
       "      <td>42507</td>\n",
       "      <td>4171.39</td>\n",
       "      <td>22271634.0</td>\n",
       "      <td>103338.46</td>\n",
       "    </tr>\n",
       "    <tr>\n",
       "      <th>2011-01-18</th>\n",
       "      <td>80584</td>\n",
       "      <td>1611.18</td>\n",
       "      <td>8079356.0</td>\n",
       "      <td>87160.71</td>\n",
       "    </tr>\n",
       "  </tbody>\n",
       "</table>\n",
       "</div>"
      ],
      "text/plain": [
       "             Quantity  UnitPrice  CustomerID      Total\n",
       "InvoiceDate                                            \n",
       "2011-12-09      90573    1449.75   8944048.0  184190.28\n",
       "2011-09-20      42507    4171.39  22271634.0  103338.46\n",
       "2011-01-18      80584    1611.18   8079356.0   87160.71"
      ]
     },
     "execution_count": 19,
     "metadata": {},
     "output_type": "execute_result"
    }
   ],
   "source": [
    "# Remove the time to check the most selling date\n",
    "df_pos['InvoiceDate'] = pd.to_datetime(df_pos['InvoiceDate'])\n",
    "df_pos['InvoiceDate'] = df_pos['InvoiceDate'].dt.floor('d')\n",
    "df_pos['InvoiceDate'] = df_pos['InvoiceDate'].dt.normalize()\n",
    "df_pos.groupby(['InvoiceDate']).sum().sort_values(by=['Total'], ascending=False).head(3)"
   ]
  },
  {
   "cell_type": "code",
   "execution_count": 20,
   "id": "53729149",
   "metadata": {},
   "outputs": [
    {
     "data": {
      "text/html": [
       "<div>\n",
       "<style scoped>\n",
       "    .dataframe tbody tr th:only-of-type {\n",
       "        vertical-align: middle;\n",
       "    }\n",
       "\n",
       "    .dataframe tbody tr th {\n",
       "        vertical-align: top;\n",
       "    }\n",
       "\n",
       "    .dataframe thead th {\n",
       "        text-align: right;\n",
       "    }\n",
       "</style>\n",
       "<table border=\"1\" class=\"dataframe\">\n",
       "  <thead>\n",
       "    <tr style=\"text-align: right;\">\n",
       "      <th></th>\n",
       "      <th>Quantity</th>\n",
       "      <th>UnitPrice</th>\n",
       "      <th>CustomerID</th>\n",
       "      <th>Total</th>\n",
       "    </tr>\n",
       "    <tr>\n",
       "      <th>InvoiceDate</th>\n",
       "      <th></th>\n",
       "      <th></th>\n",
       "      <th></th>\n",
       "      <th></th>\n",
       "    </tr>\n",
       "  </thead>\n",
       "  <tbody>\n",
       "    <tr>\n",
       "      <th>2011-02-06</th>\n",
       "      <td>2048</td>\n",
       "      <td>799.45</td>\n",
       "      <td>4357107.0</td>\n",
       "      <td>3457.11</td>\n",
       "    </tr>\n",
       "    <tr>\n",
       "      <th>2011-03-13</th>\n",
       "      <td>2722</td>\n",
       "      <td>1348.36</td>\n",
       "      <td>8227319.0</td>\n",
       "      <td>4100.04</td>\n",
       "    </tr>\n",
       "    <tr>\n",
       "      <th>2010-12-22</th>\n",
       "      <td>3071</td>\n",
       "      <td>618.09</td>\n",
       "      <td>3259191.0</td>\n",
       "      <td>4841.52</td>\n",
       "    </tr>\n",
       "  </tbody>\n",
       "</table>\n",
       "</div>"
      ],
      "text/plain": [
       "             Quantity  UnitPrice  CustomerID    Total\n",
       "InvoiceDate                                          \n",
       "2011-02-06       2048     799.45   4357107.0  3457.11\n",
       "2011-03-13       2722    1348.36   8227319.0  4100.04\n",
       "2010-12-22       3071     618.09   3259191.0  4841.52"
      ]
     },
     "execution_count": 20,
     "metadata": {},
     "output_type": "execute_result"
    }
   ],
   "source": [
    "# Check the least selling date\n",
    "df_pos.groupby(['InvoiceDate']).sum().sort_values(by=['Total'], ascending=True).head(3)"
   ]
  },
  {
   "cell_type": "code",
   "execution_count": 46,
   "id": "1740145d",
   "metadata": {},
   "outputs": [
    {
     "data": {
      "text/plain": [
       "<AxesSubplot:xlabel='InvoiceDate', ylabel='Total'>"
      ]
     },
     "execution_count": 46,
     "metadata": {},
     "output_type": "execute_result"
    },
    {
     "data": {
      "image/png": "[encoded data removed]",
      "text/plain": [
       "<Figure size 1008x504 with 1 Axes>"
      ]
     },
     "metadata": {},
     "output_type": "display_data"
    }
   ],
   "source": [
    "# Plot the history of Total purchases in timeline\n",
    "df_draw = df_pos.groupby(['InvoiceDate']).sum().sort_values(by=['InvoiceDate'], ascending=True)\n",
    "df_draw = df_draw.filter(items=['Total', 'InvoiceDate'])\n",
    "plt.figure(figsize=(14, 7))\n",
    "sns.lineplot(data=df_draw, x=\"InvoiceDate\", y=\"Total\")"
   ]
  },
  {
   "cell_type": "markdown",
   "id": "2474de82",
   "metadata": {},
   "source": [
    "## Research question 1\n",
    "\n",
    "Take a viewpoint of webshop manager and make valuable insights for him/her.\n",
    "\n",
    "### Is there a relationship between Country of Customer and Total sum of purchase?\n",
    "\n",
    "#### Hypothesis definition\n",
    "\n",
    "H0: There is a significant difference in means between Countries and Total sum of purchase\n",
    "\n",
    "H1: There are no significant difference in means between Countries and Total sum of purchase"
   ]
  },
  {
   "cell_type": "markdown",
   "id": "0d134eef",
   "metadata": {},
   "source": [
    "### Test selection\n",
    "\n",
    "Country is Categorical and Total, UnitPrice and Quantity are numeric, so Anova-test will be used."
   ]
  },
  {
   "cell_type": "code",
   "execution_count": 16,
   "id": "88f112a1",
   "metadata": {},
   "outputs": [],
   "source": [
    "def Evaluate_Countries(Country1, Country2, Factor):\n",
    "    # Data\n",
    "    df_eva1 = df_pos.loc[(df_pos['Country'] == Country1)][['Total']]['Total']\n",
    "    df_eva2 = df_pos.loc[(df_pos['Country'] == Country2)][['Total']]['Total']\n",
    "    #print(f'{Country1}: {df_eva1}')\n",
    "    #print(f'{Country2}: {df_eva2}')\n",
    "    \n",
    "    # Using Anova test, test the hypothesis\n",
    "    F_Stat, p_value = f_oneway(df_eva1, df_eva2)\n",
    "\n",
    "    # interpret p-value\n",
    "    alpha = 0.05\n",
    "    print(f\"\\nF_statistics: {round(F_Stat, 1)}, Significance Level (alpha): {alpha}, p-value: {round(p_value, 2)}\")\n",
    "\n",
    "    if p_value <= alpha:\n",
    "        print(f'Reject H0, There are a significant difference in means in {Factor} between {Country1} and {Country2}.')\n",
    "    else:\n",
    "        print(f'Accept H0, There are no significant difference in means in {Factor} between {Country1} and {Country2}.')"
   ]
  },
  {
   "cell_type": "code",
   "execution_count": 17,
   "id": "f4b9835e",
   "metadata": {},
   "outputs": [
    {
     "name": "stdout",
     "output_type": "stream",
     "text": [
      "\n",
      "F_statistics: 27.9, Significance Level (alpha): 0.05, p-value: 0.0\n",
      "Reject H0, There are a significant difference in means in Total between United Kingdom and Japan.\n"
     ]
    }
   ],
   "source": [
    "Evaluate_Countries('United Kingdom', 'Japan', 'Total')"
   ]
  },
  {
   "cell_type": "code",
   "execution_count": 18,
   "id": "97d99684",
   "metadata": {},
   "outputs": [
    {
     "name": "stdout",
     "output_type": "stream",
     "text": [
      "\n",
      "F_statistics: 3.4, Significance Level (alpha): 0.05, p-value: 0.07\n",
      "Accept H0, There are no significant difference in means in Total between Sweden and Japan.\n"
     ]
    }
   ],
   "source": [
    "Evaluate_Countries('Sweden', 'Japan', 'Total')"
   ]
  },
  {
   "cell_type": "markdown",
   "id": "3bfa4ba8",
   "metadata": {},
   "source": [
    "### Result of test\n",
    "\n",
    "There are countries which have significant difference in means in Total, like United Kingdom and Japan.\n",
    "\n",
    "There are countries which have not significant difference in means in Total, like Sweden and Japan."
   ]
  },
  {
   "cell_type": "markdown",
   "id": "56f51f86",
   "metadata": {},
   "source": [
    "## Research question 2a\n",
    "\n",
    "### Is there a relationship between Country of Customer and UnitPrice of purchased Items?\n",
    "\n",
    "#### Hypothesis definition\n",
    "\n",
    "H0: There is a significant difference in means between Countries and UnitPrice of purchased items\n",
    "\n",
    "H1: There are no significant difference in means between Countries and UnitPrice of purchased items"
   ]
  },
  {
   "cell_type": "code",
   "execution_count": 19,
   "id": "b767611e",
   "metadata": {},
   "outputs": [
    {
     "name": "stdout",
     "output_type": "stream",
     "text": [
      "\n",
      "F_statistics: 27.9, Significance Level (alpha): 0.05, p-value: 0.0\n",
      "Reject H0, There are a significant difference in means in UnitPrice between United Kingdom and Japan.\n"
     ]
    }
   ],
   "source": [
    "Evaluate_Countries('United Kingdom', 'Japan', 'UnitPrice')"
   ]
  },
  {
   "cell_type": "code",
   "execution_count": 20,
   "id": "824a895f",
   "metadata": {},
   "outputs": [
    {
     "name": "stdout",
     "output_type": "stream",
     "text": [
      "\n",
      "F_statistics: 0.0, Significance Level (alpha): 0.05, p-value: 0.96\n",
      "Accept H0, There are no significant difference in means in UnitPrice between United Kingdom and Poland.\n"
     ]
    }
   ],
   "source": [
    "Evaluate_Countries('United Kingdom', 'Poland', 'UnitPrice')"
   ]
  },
  {
   "cell_type": "markdown",
   "id": "89e26468",
   "metadata": {},
   "source": [
    "## Research question 2b\n",
    "\n",
    "### Is there a relationship between Country of Customer and Quantity of purchased Items?\n",
    "\n",
    "#### Hypothesis definition\n",
    "\n",
    "H0: There is a significant difference in means between Countries and Quantity of purchased items\n",
    "\n",
    "H1: There are no significant difference in means between Countries and Quantity of purchased items"
   ]
  },
  {
   "cell_type": "code",
   "execution_count": 21,
   "id": "803adc8e",
   "metadata": {},
   "outputs": [
    {
     "name": "stdout",
     "output_type": "stream",
     "text": [
      "\n",
      "F_statistics: 27.9, Significance Level (alpha): 0.05, p-value: 0.0\n",
      "Reject H0, There are a significant difference in means in Quantity between United Kingdom and Japan.\n"
     ]
    }
   ],
   "source": [
    "Evaluate_Countries('United Kingdom', 'Japan', 'Quantity')"
   ]
  },
  {
   "cell_type": "code",
   "execution_count": 22,
   "id": "94c6050d",
   "metadata": {},
   "outputs": [
    {
     "name": "stdout",
     "output_type": "stream",
     "text": [
      "\n",
      "F_statistics: 0.4, Significance Level (alpha): 0.05, p-value: 0.51\n",
      "Accept H0, There are no significant difference in means in Quantity between United Kingdom and France.\n"
     ]
    }
   ],
   "source": [
    "Evaluate_Countries('United Kingdom', 'France', 'Quantity')"
   ]
  },
  {
   "cell_type": "markdown",
   "id": "dc78d0ca",
   "metadata": {},
   "source": [
    "### Result of tests 2a and 2b\n",
    "\n",
    "As tests will show, there are possible to find both, Countries where are differences means of UnitPrice and Countries where are not.\n",
    "\n",
    "As tests will show, there are possible to find both, Countries where are differences means of Quantity and Countries where are not."
   ]
  },
  {
   "cell_type": "code",
   "execution_count": null,
   "id": "6f72006b",
   "metadata": {},
   "outputs": [],
   "source": []
  }
 ],
 "metadata": {
  "kernelspec": {
   "display_name": "Python 3",
   "language": "python",
   "name": "python3"
  },
  "language_info": {
   "codemirror_mode": {
    "name": "ipython",
    "version": 3
   },
   "file_extension": ".py",
   "mimetype": "text/x-python",
   "name": "python",
   "nbconvert_exporter": "python",
   "pygments_lexer": "ipython3",
   "version": "3.8.8"
  }
 },
 "nbformat": 4,
 "nbformat_minor": 5
}
